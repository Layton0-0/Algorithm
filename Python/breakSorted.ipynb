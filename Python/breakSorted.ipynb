{
 "cells": [
  {
   "cell_type": "markdown",
   "metadata": {},
   "source": [
    "# 파이썬 정렬"
   ]
  },
  {
   "cell_type": "code",
   "execution_count": 2,
   "metadata": {},
   "outputs": [
    {
     "name": "stdout",
     "output_type": "stream",
     "text": [
      "[2, 6, 4, 8, 1]\n"
     ]
    }
   ],
   "source": [
    "arr = [2, 6, 4, 8, 1]\n",
    "print(arr)"
   ]
  },
  {
   "cell_type": "markdown",
   "metadata": {},
   "source": [
    "1. 그냥 sorted는 정렬된 결과를 반환"
   ]
  },
  {
   "cell_type": "code",
   "execution_count": 3,
   "metadata": {},
   "outputs": [
    {
     "name": "stdout",
     "output_type": "stream",
     "text": [
      "[1, 2, 4, 6, 8]\n"
     ]
    }
   ],
   "source": [
    "arr_1 = sorted(arr)\n",
    "print(arr_1)"
   ]
  },
  {
   "cell_type": "markdown",
   "metadata": {},
   "source": [
    "2. reverse=True를 주면 내림차순으로 정렬된 결과를 반환"
   ]
  },
  {
   "cell_type": "code",
   "execution_count": 5,
   "metadata": {},
   "outputs": [
    {
     "name": "stdout",
     "output_type": "stream",
     "text": [
      "[8, 6, 4, 2, 1]\n"
     ]
    }
   ],
   "source": [
    "arr_2 = sorted(arr, reverse=True)\n",
    "print(arr_2)"
   ]
  },
  {
   "cell_type": "markdown",
   "metadata": {},
   "source": [
    "3. sort()는 리스트만을 위한 정렬 메소드이다"
   ]
  },
  {
   "cell_type": "code",
   "execution_count": 7,
   "metadata": {},
   "outputs": [
    {
     "name": "stdout",
     "output_type": "stream",
     "text": [
      "[1, 2, 4, 6, 8]\n"
     ]
    }
   ],
   "source": [
    "arr.sort()\n",
    "print(arr)"
   ]
  },
  {
   "cell_type": "markdown",
   "metadata": {},
   "source": [
    "4. 딕셔너리에 sorted를 적용하면 key값을 기준으로 정렬한 key값들을 배열로 반환한다."
   ]
  },
  {
   "cell_type": "code",
   "execution_count": 8,
   "metadata": {},
   "outputs": [
    {
     "name": "stdout",
     "output_type": "stream",
     "text": [
      "[1, 3, 5, 7]\n"
     ]
    }
   ],
   "source": [
    "dic = {3: \"hi\", 7: \"hello\", 1: \"f\", 5: \"pineapple\"}\n",
    "s_dic1 = sorted(dic)\n",
    "print(s_dic1)"
   ]
  },
  {
   "cell_type": "markdown",
   "metadata": {},
   "source": [
    "5. key값을 기준으로 정렬할 수 있다.\n",
    "- 딕셔너리는 그냥 반환하면 key값의 나열을 배열로 주는데 이를 ```dic[key]```이렇게 넣으면 각 value 기준으로 정렬한 key를 반환한다.\n",
    "- 아래는 value값을 기준으로 딕셔너리를 정렬한 것이다."
   ]
  },
  {
   "cell_type": "code",
   "execution_count": 10,
   "metadata": {},
   "outputs": [
    {
     "name": "stdout",
     "output_type": "stream",
     "text": [
      "[1, 7, 3, 5]\n"
     ]
    }
   ],
   "source": [
    "s_dic2 = sorted(dic, key=lambda x: dic[x])\n",
    "print(s_dic2)"
   ]
  },
  {
   "cell_type": "markdown",
   "metadata": {},
   "source": [
    "- value의 문자열 길이 별로 정렬"
   ]
  },
  {
   "cell_type": "code",
   "execution_count": 11,
   "metadata": {},
   "outputs": [
    {
     "name": "stdout",
     "output_type": "stream",
     "text": [
      "[1, 3, 7, 5]\n"
     ]
    }
   ],
   "source": [
    "s_dic3 = sorted(dic, key=lambda x: len(dic[x]))\n",
    "print(s_dic3)"
   ]
  },
  {
   "cell_type": "markdown",
   "metadata": {},
   "source": [
    "6. 배열 안의 튜플 정렬\n",
    "- 튜플의 2번째 요소 기준 정렬"
   ]
  },
  {
   "cell_type": "code",
   "execution_count": 12,
   "metadata": {},
   "outputs": [
    {
     "name": "stdout",
     "output_type": "stream",
     "text": [
      "[(8, 3), (1, 3), (2, 6), (3, 6), (6, 7)]\n"
     ]
    }
   ],
   "source": [
    "tu_arr = [(2, 6), (3, 6), (8, 3), (6, 7), (1, 3)]\n",
    "tu_arr1 = sorted(tu_arr, key=lambda tu: tu[1])\n",
    "print(tu_arr1)"
   ]
  },
  {
   "cell_type": "markdown",
   "metadata": {},
   "source": [
    "- 튜플의 2번째 요소 기준으로 정렬하되, 값이 같으면 1번째 요소 기준으로 정렬"
   ]
  },
  {
   "cell_type": "code",
   "execution_count": 13,
   "metadata": {},
   "outputs": [
    {
     "name": "stdout",
     "output_type": "stream",
     "text": [
      "[(1, 3), (8, 3), (2, 6), (3, 6), (6, 7)]\n"
     ]
    }
   ],
   "source": [
    "tu_arr2 = sorted(tu_arr, key=lambda tu: (tu[1], tu[0]))\n",
    "print(tu_arr2)"
   ]
  },
  {
   "cell_type": "markdown",
   "metadata": {},
   "source": [
    "- 튜플의 2번째 요소 기준으로 정렬하되, 값이 같으면 1번째 요소 기준으로 내림차순 정렬"
   ]
  },
  {
   "cell_type": "code",
   "execution_count": 14,
   "metadata": {},
   "outputs": [
    {
     "name": "stdout",
     "output_type": "stream",
     "text": [
      "[(8, 3), (1, 3), (3, 6), (2, 6), (6, 7)]\n"
     ]
    }
   ],
   "source": [
    "tu_arr3 = sorted(tu_arr, key=lambda tu: (tu[1], -tu[0]))\n",
    "print(tu_arr3)"
   ]
  }
 ],
 "metadata": {
  "kernelspec": {
   "display_name": "Python 3.10.1 64-bit",
   "language": "python",
   "name": "python3"
  },
  "language_info": {
   "codemirror_mode": {
    "name": "ipython",
    "version": 3
   },
   "file_extension": ".py",
   "mimetype": "text/x-python",
   "name": "python",
   "nbconvert_exporter": "python",
   "pygments_lexer": "ipython3",
   "version": "3.10.1"
  },
  "orig_nbformat": 4,
  "vscode": {
   "interpreter": {
    "hash": "f2a4c5ceea48ee600c9fb8a1d5415a4046b54b10cba53c0ecdb25c0ca07f35bd"
   }
  }
 },
 "nbformat": 4,
 "nbformat_minor": 2
}
